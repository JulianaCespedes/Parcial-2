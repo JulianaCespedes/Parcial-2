{
  "nbformat": 4,
  "nbformat_minor": 0,
  "metadata": {
    "colab": {
      "provenance": []
    },
    "kernelspec": {
      "name": "python3",
      "display_name": "Python 3"
    },
    "language_info": {
      "name": "python"
    }
  },
  "cells": [
    {
      "cell_type": "markdown",
      "source": [
        "## Examen 2"
      ],
      "metadata": {
        "id": "e0CKhMJ3KyxZ"
      }
    },
    {
      "cell_type": "markdown",
      "source": [
        "A) Integral"
      ],
      "metadata": {
        "id": "DTlxBwCSK6gn"
      }
    },
    {
      "cell_type": "code",
      "execution_count": 96,
      "metadata": {
        "id": "GtfOFsfmKumG"
      },
      "outputs": [],
      "source": [
        "import random\n",
        "import numpy as np\n",
        "import pandas as pd\n",
        "from scipy.integrate import quad"
      ]
    },
    {
      "cell_type": "code",
      "source": [
        "# A.1 Creacion del numero aleatorio.\n",
        "random.seed(1000305547)\n",
        "n = random.randint(2,20)\n",
        "\n",
        "#A.2 Solucion para la integral.\n",
        "inicial = 0\n",
        "final = 1.6\n",
        "\n",
        "def funcion(x):\n",
        "  return np.sin(x**13)\n",
        "\n",
        "integral,error = quad(funcion, inicial, final)\n",
        "\n",
        "print(integral)\n",
        "print(error)"
      ],
      "metadata": {
        "colab": {
          "base_uri": "https://localhost:8080/"
        },
        "id": "NN2Euad7LbUW",
        "outputId": "54f82389-2a66-4a53-bc04-2da560c02541"
      },
      "execution_count": 97,
      "outputs": [
        {
          "output_type": "stream",
          "name": "stdout",
          "text": [
            "0.11596567361486147\n",
            "7.204203797865955e-09\n"
          ]
        }
      ]
    },
    {
      "cell_type": "markdown",
      "source": [
        "Como la funcion $sin(x^{13})$ tiene un movimiento \"suave\" entre, aproximadamente, -1.6 y 1.6. Se puede hallar la integral tranquilamente en el programa, desde 0 a 1.6. Pero desde 1.6 en adelante la funcion comienza a fluctuar mucho, lo cual general problemas en el programa para realizar el calculo.\n",
        "\n",
        "Esto mismo sucede con el lado negativo de la funcion, pues es una funcion simetrica."
      ],
      "metadata": {
        "id": "6mIgOpoAhlda"
      }
    },
    {
      "cell_type": "markdown",
      "source": [
        "B) Matriz"
      ],
      "metadata": {
        "id": "C-QZodduiVQg"
      }
    },
    {
      "cell_type": "code",
      "source": [
        "# Lectura del archivo y creacion del dataframe.\n",
        "df = pd.read_json('https://raw.githubusercontent.com/ComputationalMethods/Evaluacion_2022-1/main/data/lista_pares.json')\n",
        "dataframe = df.iloc[47]\n",
        "print('Lista: ',dataframe.lista)\n",
        "print('Pares: ',dataframe.pares)"
      ],
      "metadata": {
        "colab": {
          "base_uri": "https://localhost:8080/"
        },
        "id": "ljg3EberjEU1",
        "outputId": "30b10b1e-e04a-458e-b5b7-3a927961ab08"
      },
      "execution_count": 98,
      "outputs": [
        {
          "output_type": "stream",
          "name": "stdout",
          "text": [
            "Lista:  [2, -3, -5, 6, -11, 12, 12, -13]\n",
            "Pares:  {'S': 1, 'ψ': [[-5, 6], [12, -13], [-11, 12], [2, -3], [6, -5], [-13, 12], [12, -11], [-3, 2]]}\n"
          ]
        }
      ]
    },
    {
      "cell_type": "code",
      "source": [
        "# B.1 Creacion de la matriz.\n",
        "matriz = np.zeros([8,8])\n",
        "\n",
        "for fil, i in enumerate(dataframe.lista):\n",
        "  for colum, j in enumerate(dataframe.lista):\n",
        "    if [i,j] in dataframe.pares['ψ']:\n",
        "      matriz[fil,colum] = round(random.random(),3)\n",
        "\n",
        "matriz"
      ],
      "metadata": {
        "colab": {
          "base_uri": "https://localhost:8080/"
        },
        "id": "5x5cSgRYmWaM",
        "outputId": "765ba5a7-c932-4568-dc4b-45442e0f4e22"
      },
      "execution_count": 99,
      "outputs": [
        {
          "output_type": "execute_result",
          "data": {
            "text/plain": [
              "array([[0.   , 0.982, 0.   , 0.   , 0.   , 0.   , 0.   , 0.   ],\n",
              "       [0.675, 0.   , 0.   , 0.   , 0.   , 0.   , 0.   , 0.   ],\n",
              "       [0.   , 0.   , 0.   , 0.6  , 0.   , 0.   , 0.   , 0.   ],\n",
              "       [0.   , 0.   , 0.207, 0.   , 0.   , 0.   , 0.   , 0.   ],\n",
              "       [0.   , 0.   , 0.   , 0.   , 0.   , 0.953, 0.164, 0.   ],\n",
              "       [0.   , 0.   , 0.   , 0.   , 0.997, 0.   , 0.   , 0.123],\n",
              "       [0.   , 0.   , 0.   , 0.   , 0.087, 0.   , 0.   , 0.802],\n",
              "       [0.   , 0.   , 0.   , 0.   , 0.   , 0.226, 0.657, 0.   ]])"
            ]
          },
          "metadata": {},
          "execution_count": 99
        }
      ]
    },
    {
      "cell_type": "code",
      "source": [
        "# B.2 Calculo del determinante.\n",
        "det = np.linalg.det(matriz)\n",
        "print(r'El determinante es: %.3f'%det)"
      ],
      "metadata": {
        "colab": {
          "base_uri": "https://localhost:8080/"
        },
        "id": "lmkLd3Dbovng",
        "outputId": "d8234528-8fa3-483e-edb7-eb11496413f6"
      },
      "execution_count": 100,
      "outputs": [
        {
          "output_type": "stream",
          "name": "stdout",
          "text": [
            "El determinante es: 0.038\n"
          ]
        }
      ]
    },
    {
      "cell_type": "code",
      "source": [
        "# B.3 Ordenamiento de autovalores y autovectores.\n",
        "autovalor, autovector = np.linalg.eig(matriz)\n",
        "\n",
        "a_valor_abs = [abs(ele) for ele in autovalor]\n",
        "a_valor_abs.sort()\n",
        "indice = np.argsort(a_valor_abs)\n",
        "autovector = autovector[:,indice]\n",
        "\n",
        "print('''Autovalores ordenados:\n",
        "''', a_valor_abs)\n",
        "print('''\n",
        "Autovectores ordenados:\n",
        "''', autovector)"
      ],
      "metadata": {
        "colab": {
          "base_uri": "https://localhost:8080/"
        },
        "id": "c1TIpzUTo01y",
        "outputId": "abbb793d-42a5-4e58-91db-df12f5021948"
      },
      "execution_count": 108,
      "outputs": [
        {
          "output_type": "stream",
          "name": "stdout",
          "text": [
            "Autovalores ordenados:\n",
            " [0.35242020373412186, 0.3524202037341219, 0.6515782513117025, 0.6515782513117027, 0.8141560047067146, 0.8141560047067148, 1.0462154569769944, 1.0462154569769957]\n",
            "\n",
            "Autovectores ordenados:\n",
            " [[ 0.76982939 -0.76982939  0.          0.          0.          0.\n",
            "   0.          0.        ]\n",
            " [ 0.63824972  0.63824972  0.          0.          0.          0.\n",
            "   0.          0.        ]\n",
            " [ 0.          0.          0.86226123 -0.86226123  0.          0.\n",
            "   0.          0.        ]\n",
            " [ 0.          0.          0.5064638   0.5064638   0.          0.\n",
            "   0.          0.        ]\n",
            " [ 0.          0.          0.          0.          0.62776833 -0.27311784\n",
            "  -0.62776833 -0.27311784]\n",
            " [ 0.          0.          0.          0.         -0.63685574  0.30601181\n",
            "  -0.63685574 -0.30601181]\n",
            " [ 0.          0.          0.          0.         -0.30400858 -0.69311956\n",
            "  -0.30400858  0.69311956]\n",
            " [ 0.          0.          0.          0.          0.32848208  0.59274674\n",
            "  -0.32848208  0.59274674]]\n"
          ]
        }
      ]
    },
    {
      "cell_type": "code",
      "source": [
        "# B.4\n",
        "print('Autovalores sin valor absoluto: ', autovalor)\n",
        "print('Autovalores con valor absoluto: ', a_valor_abs)"
      ],
      "metadata": {
        "colab": {
          "base_uri": "https://localhost:8080/"
        },
        "id": "mF_Q5ZyXo7ku",
        "outputId": "c0f00ea1-e7d4-46a5-b769-908efe87ef1e"
      },
      "execution_count": 103,
      "outputs": [
        {
          "output_type": "stream",
          "name": "stdout",
          "text": [
            "Autovalores sin valor absoluto:  [ 0.814156   -0.814156    0.3524202  -0.3524202  -1.04621546 -0.65157825\n",
            "  1.04621546  0.65157825]\n",
            "Autovalores con valor absoluto:  [0.35242020373412186, 0.3524202037341219, 0.6515782513117025, 0.6515782513117027, 0.8141560047067146, 0.8141560047067148, 1.0462154569769944, 1.0462154569769957]\n"
          ]
        }
      ]
    }
  ]
}