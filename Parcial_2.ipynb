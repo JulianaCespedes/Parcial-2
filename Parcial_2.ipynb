{
  "nbformat": 4,
  "nbformat_minor": 0,
  "metadata": {
    "colab": {
      "provenance": [],
      "collapsed_sections": []
    },
    "kernelspec": {
      "name": "python3",
      "display_name": "Python 3"
    },
    "language_info": {
      "name": "python"
    }
  },
  "cells": [
    {
      "cell_type": "markdown",
      "source": [
        "## Examen 2"
      ],
      "metadata": {
        "id": "e0CKhMJ3KyxZ"
      }
    },
    {
      "cell_type": "markdown",
      "source": [
        "A) Integral"
      ],
      "metadata": {
        "id": "DTlxBwCSK6gn"
      }
    },
    {
      "cell_type": "code",
      "execution_count": null,
      "metadata": {
        "id": "GtfOFsfmKumG"
      },
      "outputs": [],
      "source": [
        "import random\n",
        "import numpy as np\n",
        "import pandas as pd\n",
        "from scipy.integrate import quad"
      ]
    },
    {
      "cell_type": "code",
      "source": [
        "# A.1 Creacion del numero aleatorio.\n",
        "random.seed(1000305547)\n",
        "n = random.randint(2,20)\n",
        "\n",
        "#A.2 Solucion para la integral.\n",
        "inicial = 0\n",
        "final = 1.6\n",
        "\n",
        "def funcion(x):\n",
        "  return np.sin(x**13)\n",
        "\n",
        "integral,error = quad(funcion, inicial, final)\n",
        "\n",
        "print(integral)\n",
        "print(error)"
      ],
      "metadata": {
        "colab": {
          "base_uri": "https://localhost:8080/"
        },
        "id": "NN2Euad7LbUW",
        "outputId": "d614850a-ee4e-4f8b-c7de-ae54245a882b"
      },
      "execution_count": null,
      "outputs": [
        {
          "output_type": "stream",
          "name": "stdout",
          "text": [
            "0.11596567361486147\n",
            "7.204203797865955e-09\n"
          ]
        }
      ]
    },
    {
      "cell_type": "markdown",
      "source": [
        "Como la funcion $sin(x^{13})$ tiene un movimiento \"suave\" entre, aproximadamente, -1.6 y 1.6. Se puede hallar la integral tranquilamente en el programa, desde 0 a 1.6. Pero desde 1.6 en adelante la funcion comienza a fluctuar mucho, lo cual general problemas en el programa para realizar el calculo.\n",
        "\n",
        "Esto mismo sucede con el lado negativo de la funcion, pues es una funcion simetrica."
      ],
      "metadata": {
        "id": "6mIgOpoAhlda"
      }
    },
    {
      "cell_type": "markdown",
      "source": [
        "B) Matriz"
      ],
      "metadata": {
        "id": "C-QZodduiVQg"
      }
    },
    {
      "cell_type": "code",
      "source": [
        "# Lectura del archivo y creacion del dataframe.\n",
        "df = pd.read_json('https://raw.githubusercontent.com/ComputationalMethods/Evaluacion_2022-1/main/data/lista_pares.json')\n",
        "dataframe = df.iloc[47]\n",
        "print('Lista: ',dataframe.lista)\n",
        "print('Pares: ',dataframe.pares)"
      ],
      "metadata": {
        "colab": {
          "base_uri": "https://localhost:8080/"
        },
        "id": "ljg3EberjEU1",
        "outputId": "a5724341-2180-4807-b347-00da2d608681"
      },
      "execution_count": null,
      "outputs": [
        {
          "output_type": "stream",
          "name": "stdout",
          "text": [
            "Lista:  [2, -3, -5, 6, -11, 12, 12, -13]\n",
            "Pares:  {'S': 1, 'ψ': [[-5, 6], [12, -13], [-11, 12], [2, -3], [6, -5], [-13, 12], [12, -11], [-3, 2]]}\n"
          ]
        }
      ]
    },
    {
      "cell_type": "code",
      "source": [
        "# B.1 Creacion de la matriz.\n",
        "matriz = np.zeros([8,8])\n",
        "\n",
        "for fil, i in enumerate(dataframe.lista):\n",
        "  for colum, j in enumerate(dataframe.lista):\n",
        "    if [i,j] in dataframe.pares['ψ']:\n",
        "      matriz[fil,colum] = round(random.random(),3)\n",
        "\n",
        "matriz"
      ],
      "metadata": {
        "colab": {
          "base_uri": "https://localhost:8080/"
        },
        "id": "5x5cSgRYmWaM",
        "outputId": "0609956e-160b-4b8c-848f-d99f88594a60"
      },
      "execution_count": null,
      "outputs": [
        {
          "output_type": "execute_result",
          "data": {
            "text/plain": [
              "array([[0.   , 0.982, 0.   , 0.   , 0.   , 0.   , 0.   , 0.   ],\n",
              "       [0.675, 0.   , 0.   , 0.   , 0.   , 0.   , 0.   , 0.   ],\n",
              "       [0.   , 0.   , 0.   , 0.6  , 0.   , 0.   , 0.   , 0.   ],\n",
              "       [0.   , 0.   , 0.207, 0.   , 0.   , 0.   , 0.   , 0.   ],\n",
              "       [0.   , 0.   , 0.   , 0.   , 0.   , 0.953, 0.164, 0.   ],\n",
              "       [0.   , 0.   , 0.   , 0.   , 0.997, 0.   , 0.   , 0.123],\n",
              "       [0.   , 0.   , 0.   , 0.   , 0.087, 0.   , 0.   , 0.802],\n",
              "       [0.   , 0.   , 0.   , 0.   , 0.   , 0.226, 0.657, 0.   ]])"
            ]
          },
          "metadata": {},
          "execution_count": 4
        }
      ]
    },
    {
      "cell_type": "code",
      "source": [
        "# B.2 Calculo del determinante.\n",
        "det = np.linalg.det(matriz)\n",
        "print(r'El determinante es: %.f. Por tanto debe haber, como minimo, una fila de ceros.'%det)"
      ],
      "metadata": {
        "colab": {
          "base_uri": "https://localhost:8080/"
        },
        "id": "lmkLd3Dbovng",
        "outputId": "63344e88-9101-4f38-bc77-e43af20b8438"
      },
      "execution_count": null,
      "outputs": [
        {
          "output_type": "stream",
          "name": "stdout",
          "text": [
            "El determinante es: 0. Por tanto debe haber, como minimo, una fila de ceros.\n"
          ]
        }
      ]
    },
    {
      "cell_type": "code",
      "source": [
        "# B.3 Ordenamiento de autovalores y autovectores.\n",
        "autovalor, autovector = np.linalg.eig(matriz)\n",
        "\n",
        "a_valor_abs = [abs(ele) for ele in autovalor]\n",
        "a_valor_abs.sort()\n",
        "indice = np.argsort(a_valor_abs)\n",
        "autovector = autovector[:,indice]\n",
        "\n",
        "print('''Autovalores ordenados:\n",
        "''', np.round(np.diag(a_valor_abs),3))\n",
        "print('''\n",
        "Autovectores ordenados:\n",
        "''', np.around(autovector, 3))"
      ],
      "metadata": {
        "colab": {
          "base_uri": "https://localhost:8080/"
        },
        "id": "c1TIpzUTo01y",
        "outputId": "81d35a01-0d5e-4d3d-efba-d2c5f41d344e"
      },
      "execution_count": null,
      "outputs": [
        {
          "output_type": "stream",
          "name": "stdout",
          "text": [
            "Autovalores ordenados:\n",
            " [[0.352 0.    0.    0.    0.    0.    0.    0.   ]\n",
            " [0.    0.352 0.    0.    0.    0.    0.    0.   ]\n",
            " [0.    0.    0.652 0.    0.    0.    0.    0.   ]\n",
            " [0.    0.    0.    0.652 0.    0.    0.    0.   ]\n",
            " [0.    0.    0.    0.    0.814 0.    0.    0.   ]\n",
            " [0.    0.    0.    0.    0.    0.814 0.    0.   ]\n",
            " [0.    0.    0.    0.    0.    0.    1.046 0.   ]\n",
            " [0.    0.    0.    0.    0.    0.    0.    1.046]]\n",
            "\n",
            "Autovectores ordenados:\n",
            " [[ 0.77  -0.77   0.     0.     0.     0.     0.     0.   ]\n",
            " [ 0.638  0.638  0.     0.     0.     0.     0.     0.   ]\n",
            " [ 0.     0.     0.862 -0.862  0.     0.     0.     0.   ]\n",
            " [ 0.     0.     0.506  0.506  0.     0.     0.     0.   ]\n",
            " [ 0.     0.     0.     0.     0.628 -0.273 -0.628 -0.273]\n",
            " [ 0.     0.     0.     0.    -0.637  0.306 -0.637 -0.306]\n",
            " [ 0.     0.     0.     0.    -0.304 -0.693 -0.304  0.693]\n",
            " [ 0.     0.     0.     0.     0.328  0.593 -0.328  0.593]]\n"
          ]
        }
      ]
    },
    {
      "cell_type": "code",
      "source": [
        "# B.4\n",
        "print('''Autovalores con valor absoluto: \n",
        "''', np.round(np.diag(a_valor_abs),3))\n",
        "print('''\n",
        "De la anterior matriz, podemos deducir que existen 4 autovalores degenerados, pues hay 4 autovalores que se repiten en la matriz''')"
      ],
      "metadata": {
        "colab": {
          "base_uri": "https://localhost:8080/"
        },
        "id": "mF_Q5ZyXo7ku",
        "outputId": "77906179-5fdf-4f1a-aec3-c62a17d6b3d2"
      },
      "execution_count": null,
      "outputs": [
        {
          "output_type": "stream",
          "name": "stdout",
          "text": [
            "Autovalores con valor absoluto: \n",
            " [[0.352 0.    0.    0.    0.    0.    0.    0.   ]\n",
            " [0.    0.352 0.    0.    0.    0.    0.    0.   ]\n",
            " [0.    0.    0.652 0.    0.    0.    0.    0.   ]\n",
            " [0.    0.    0.    0.652 0.    0.    0.    0.   ]\n",
            " [0.    0.    0.    0.    0.814 0.    0.    0.   ]\n",
            " [0.    0.    0.    0.    0.    0.814 0.    0.   ]\n",
            " [0.    0.    0.    0.    0.    0.    1.046 0.   ]\n",
            " [0.    0.    0.    0.    0.    0.    0.    1.046]]\n",
            "\n",
            "De la anterior matriz, podemos deducir que existen 4 autovalores degenerados, pues hay 4 autovalores que se repiten en la matriz\n"
          ]
        }
      ]
    }
  ]
}